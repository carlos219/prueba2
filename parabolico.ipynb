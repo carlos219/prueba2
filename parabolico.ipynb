{
 "cells": [
  {
   "cell_type": "code",
   "execution_count": 1,
   "metadata": {},
   "outputs": [],
   "source": [
    "from math import sin,pi,cos,sqrt\n",
    "from numpy import array,arange\n",
    "from pylab import plot, xlabel,ylabel, show,legend,grid,title,xlim, ylim"
   ]
  },
  {
   "cell_type": "code",
   "execution_count": 2,
   "metadata": {},
   "outputs": [],
   "source": [
    "#constantes\n",
    "m= 1 #kg\n",
    "c1 = 0\n",
    "c2 = 0.1\n",
    "g = 9.8 #m/s^2\n",
    "\n",
    "def f(R,t,C): \n",
    "    x = R[0]\n",
    "    vx = R[1]\n",
    "    y = R[2]\n",
    "    vy = R[3]\n",
    "    fvx = -C*vy*sqrt(vx**2 + vy**2)/(2*m)   \n",
    "    fvy = -g-C*vy*sqrt(vx**2 + vy**2)/(2*m)\n",
    "    return array ([vx,fvx,vy,fvy],float)"
   ]
  },
  {
   "cell_type": "code",
   "execution_count": 3,
   "metadata": {},
   "outputs": [],
   "source": [
    "def funcion(C): \n",
    "    ti = 0       #tiempo inicial\n",
    "    tf = 5   #tiempo final\n",
    "    N=1000    #numero de paso\n",
    "    h=(tf-ti)/N  #tamaño del paso\n",
    "\n",
    "    #valores iniciales\n",
    "    v = 15 #m/s   \n",
    "    theta = (45*pi)/180 \n",
    "    vx0 = v*cos(theta)        \n",
    "    vy0 = v*sin(theta)        \n",
    "    x0=0               \n",
    "    y0=0               \n",
    "\n",
    "    tpoints = arange(ti, tf, h)    \n",
    "    xpoints = []             # arreglo vacio que se llenara con las posiciones en x \n",
    "    ypoints = []             # arreglo vacio que se llenara con las posiciones en y\n",
    "\n",
    "    R = array([x0, vx0, y0, vy0], float)  #Arreglo que contiene lo valores iniciales y que se va llenando con los valores dados por el metodo RK4\n",
    "\n",
    "    for t in tpoints:              #Implementamos  RK4 \n",
    "        xpoints.append(R[0])       \n",
    "        ypoints.append(R[2])\n",
    "    \n",
    "        k1 = h * f(R, t, C)\n",
    "        k2 = h * f(R + 0.5 * k1, t + 0.5 * h, C)\n",
    "        k3 = h * f(R + 0.5 * k2, t + 0.5 * h, C)\n",
    "        k4 = h * f(R + k3, t + h, C)\n",
    "        R += (k1 + 2 * k2 + 2 * k3 + k4) / 6\n",
    "    return xpoints, ypoints "
   ]
  },
  {
   "cell_type": "markdown",
   "metadata": {},
   "source": [
    "El alcanze horizontal para un tiro parabolico es:\n",
    "    \n",
    "\\begin{equation}\n",
    "x_{max}=\\frac{v_{0}^{2}sen(2\\theta)}{g}\n",
    "\\end{equation}\n",
    "\n",
    "\\begin{equation}\n",
    "x_{max}=\\frac{15^{2}sen(2*45)}{9.8})=22.95[m]\n",
    "\\end{equation}"
   ]
  },
  {
   "cell_type": "code",
   "execution_count": 5,
   "metadata": {},
   "outputs": [
    {
     "name": "stdout",
     "output_type": "stream",
     "text": [
      "Xmaximo =  22.963292719033106\n"
     ]
    }
   ],
   "source": [
    "x1,y1=funcion(c1)\n",
    "lista1=[]     \n",
    "for i in range (len(x1)):  # calculamos la cordenada donde Y es cero que nos indica el alcanze horizontal\n",
    "    if -0.009< y1[i] <0.009:\n",
    "        lista1.append(i)\n",
    "        \n",
    "Xmax1 = (x1[max(lista1)])  # alcanze maximo horizontal\n",
    "print(\"Xmaximo = \", Xmax1)"
   ]
  },
  {
   "cell_type": "code",
   "execution_count": 7,
   "metadata": {},
   "outputs": [
    {
     "data": {
      "image/png": "[encoded data removed]",
      "text/plain": [
       "<Figure size 432x288 with 1 Axes>"
      ]
     },
     "metadata": {
      "needs_background": "light"
     },
     "output_type": "display_data"
    }
   ],
   "source": [
    "plot(x1,y1)\n",
    "plot(Xmax1,y1[max(lista1)], 'o')\n",
    "plot()\n",
    "ylim(-20,10)\n",
    "xlim(-1,25)\n",
    "xlabel('x[m]')\n",
    "ylabel('y[m]')\n",
    "grid()\n",
    "show()"
   ]
  },
  {
   "cell_type": "code",
   "execution_count": 9,
   "metadata": {},
   "outputs": [
    {
     "name": "stdout",
     "output_type": "stream",
     "text": [
      "Xmaximo =  16.31409312670343\n"
     ]
    }
   ],
   "source": [
    "x2,y2=funcion(c2)\n",
    "lista2=[]     \n",
    "for i in range (len(x2)): \n",
    "    if -0.009< y2[i] <0.009:\n",
    "        lista2.append(i)\n",
    "        \n",
    "Xmax2= (x2[max(lista2)])  # alcanze maximo horizontal\n",
    "print(\"Xmaximo = \", Xmax2)"
   ]
  },
  {
   "cell_type": "code",
   "execution_count": 19,
   "metadata": {},
   "outputs": [
    {
     "data": {
      "image/png": "[encoded data removed]",
      "text/plain": [
       "<Figure size 432x288 with 1 Axes>"
      ]
     },
     "metadata": {
      "needs_background": "light"
     },
     "output_type": "display_data"
    }
   ],
   "source": [
    "plot(x1,y1, label=\"sin fricción\")\n",
    "plot(x2,y2, label=\"con fricción\")\n",
    "plot(Xmax1, y1[max(lista1)],'o' )\n",
    "plot(Xmax2, y2[max(lista2)], 'o')\n",
    "plot()\n",
    "ylim(-20,10)\n",
    "xlim(-1,25)\n",
    "xlabel('x[m]')\n",
    "ylabel('y[m]')\n",
    "grid()\n",
    "legend()\n",
    "show()"
   ]
  },
  {
   "cell_type": "code",
   "execution_count": null,
   "metadata": {},
   "outputs": [],
   "source": []
  }
 ],
 "metadata": {
  "kernelspec": {
   "display_name": "Python 3",
   "language": "python",
   "name": "python3"
  },
  "language_info": {
   "codemirror_mode": {
    "name": "ipython",
    "version": 3
   },
   "file_extension": ".py",
   "mimetype": "text/x-python",
   "name": "python",
   "nbconvert_exporter": "python",
   "pygments_lexer": "ipython3",
   "version": "3.8.3"
  }
 },
 "nbformat": 4,
 "nbformat_minor": 2
}
